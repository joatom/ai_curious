{
 "cells": [
  {
   "cell_type": "code",
   "execution_count": 3,
   "metadata": {},
   "outputs": [
    {
     "name": "stdout",
     "output_type": "stream",
     "text": [
      "Collecting sentencepiece\n",
      "  Downloading sentencepiece-0.1.94-cp36-cp36m-manylinux2014_x86_64.whl (1.1 MB)\n",
      "\u001b[K     |████████████████████████████████| 1.1 MB 5.0 MB/s eta 0:00:01\n",
      "\u001b[?25hInstalling collected packages: sentencepiece\n",
      "Successfully installed sentencepiece-0.1.94\n"
     ]
    }
   ],
   "source": [
    "#!pip install transformers\n",
    "#!pip install sentencepiece"
   ]
  },
  {
   "cell_type": "code",
   "execution_count": 46,
   "metadata": {},
   "outputs": [
    {
     "name": "stderr",
     "output_type": "stream",
     "text": [
      "Some weights of MarianMTModel were not initialized from the model checkpoint at Helsinki-NLP/opus-mt-de-en and are newly initialized: ['lm_head.weight']\n",
      "You should probably TRAIN this model on a down-stream task to be able to use it for predictions and inference.\n"
     ]
    }
   ],
   "source": [
    "from transformers import MarianMTModel, MarianTokenizer\n",
    "\n",
    "# load pretrained model and tokenizer\n",
    "model_name = 'Helsinki-NLP/opus-mt-de-en'\n",
    "tokenizer = MarianTokenizer.from_pretrained(model_name)\n",
    "model = MarianMTModel.from_pretrained(model_name)\n",
    "\n",
    "# load german block post\n",
    "f_in = open(\"blog_translator.md\", \"r\")\n",
    "src_text = f_in.readlines()\n",
    "f_in.close()\n",
    "\n",
    "# preprocessing\n",
    "## line break (\\n) results to \"I don't know.\"  We make it more specific:\n",
    "src_text = [s.replace('\\n',' <<eol>>') for s in src_text]\n",
    "\n",
    "## remove code block\n",
    "code = []\n",
    "inside_code_block = False\n",
    "for i, line in enumerate(src_text):\n",
    "    if line.startswith('```') and not inside_code_block:\n",
    "        # entering codeblock\n",
    "        inside_code_block = True\n",
    "        code += [line]\n",
    "        src_text[i] = '<<code_block>>'\n",
    "    elif inside_code_block and not line.startswith('```'):\n",
    "        code += [line]\n",
    "        src_text[i] = '<<code_block>>'\n",
    "    elif inside_code_block and line.startswith('```'):\n",
    "        # leaving code block\n",
    "        code += [line]\n",
    "        src_text[i] = '<<code_block>>'\n",
    "        inside_code_block = False\n",
    "\n",
    "# translate\n",
    "translated = model.generate(**tokenizer.prepare_seq2seq_batch(src_text, return_tensors=\"pt\"))\n",
    "tgt_text = [tokenizer.decode(t, skip_special_tokens=True) for t in translated]\n",
    "\n",
    "# postprocessing\n",
    "## replace code_blog tags with code\n",
    "for i, line in enumerate(tgt_text):\n",
    "    if line == '<<code_block>>':\n",
    "        tgt_text[i] = code.pop(0)\n",
    "\n",
    "## remove the eol (but keep empty list entries / lines)\n",
    "tgt_text = [s.replace('<<eol>>', '',) for s in tgt_text]\n",
    "## remove space between ] ( to get the md link syntax right\n",
    "tgt_text = [s.replace('] (', '](',) for s in tgt_text]\n",
    "\n",
    "# write english blog post\n",
    "with open('2020-12-26-blog-translator.md', 'w') as f_out:\n",
    "    for line in tgt_text:\n",
    "        f_out.write(\"%s\\n\" % line)\n",
    "f_out.close()\n",
    "\n"
   ]
  },
  {
   "cell_type": "code",
   "execution_count": 36,
   "metadata": {},
   "outputs": [
    {
     "data": {
      "text/plain": [
       "('sdf1', ['sdf2', 'sdf3'])"
      ]
     },
     "execution_count": 36,
     "metadata": {},
     "output_type": "execute_result"
    }
   ],
   "source": [
    "a = ['sdf1','sdf2']\n",
    "a += ['sdf3']\n",
    "\n",
    "a.pop(0) ,a"
   ]
  },
  {
   "cell_type": "code",
   "execution_count": null,
   "metadata": {},
   "outputs": [],
   "source": []
  }
 ],
 "metadata": {
  "kernelspec": {
   "display_name": "Python [conda env:ml]",
   "language": "python",
   "name": "conda-env-ml-py"
  },
  "language_info": {
   "codemirror_mode": {
    "name": "ipython",
    "version": 3
   },
   "file_extension": ".py",
   "mimetype": "text/x-python",
   "name": "python",
   "nbconvert_exporter": "python",
   "pygments_lexer": "ipython3",
   "version": "3.6.12"
  }
 },
 "nbformat": 4,
 "nbformat_minor": 4
}
